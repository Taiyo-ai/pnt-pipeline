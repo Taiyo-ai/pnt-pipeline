{
 "cells": [
  {
   "cell_type": "code",
   "execution_count": 1,
   "id": "4e597e18",
   "metadata": {},
   "outputs": [],
   "source": [
    "#Importing Libraries"
   ]
  },
  {
   "cell_type": "code",
   "execution_count": 2,
   "id": "9918a2af",
   "metadata": {},
   "outputs": [],
   "source": [
    "import pandas as pd\n",
    "import numpy as np\n",
    "import matplotlib.pyplot as plt\n",
    "%matplotlib inline\n",
    "from urllib.request import urlopen\n",
    "from bs4 import BeautifulSoup\n",
    "import re\n",
    "import seaborn as sns"
   ]
  },
  {
   "cell_type": "code",
   "execution_count": 3,
   "id": "15466d6c",
   "metadata": {},
   "outputs": [],
   "source": [
    "#Importing Url\n",
    "url = \"https://dot.ca.gov/programs/procurement-and-contracts/contracts-out-for-bid\"    #open link\n",
    "html = urlopen(url)"
   ]
  },
  {
   "cell_type": "code",
   "execution_count": 4,
   "id": "85ef4a3c",
   "metadata": {},
   "outputs": [],
   "source": [
    "soup = BeautifulSoup(html)"
   ]
  },
  {
   "cell_type": "code",
   "execution_count": 5,
   "id": "1eedaff5",
   "metadata": {},
   "outputs": [
    {
     "name": "stdout",
     "output_type": "stream",
     "text": [
      "<title property=\"og:title\">Contracts Out for Bid | Caltrans</title>\n",
      "Contracts Out for Bid | Caltrans\n"
     ]
    }
   ],
   "source": [
    "title = soup.title\n",
    "print(title)\n",
    "print(title.text)"
   ]
  },
  {
   "cell_type": "code",
   "execution_count": 6,
   "id": "d717fe28",
   "metadata": {},
   "outputs": [
    {
     "name": "stdout",
     "output_type": "stream",
     "text": [
      "#main-content\n",
      "https://www.surveymonkey.com/r/NT8JKRM?source=Calsta&src=[src_value]\n",
      "https://www.ca.gov/\n",
      "/about-caltrans\n",
      "/contact-us\n",
      "/-/media/dot-media/documents/caltrans-2021-simm-25-b-certification_onfile-a11y.pdf\n",
      "/request-ada-compliant-documents\n",
      "/\n",
      "/\n",
      "/travel\n",
      "/work-with-caltrans\n",
      "/programs\n",
      "/caltrans-near-me\n",
      "javascript:;\n",
      "/\n",
      "/programs\n",
      "/programs/procurement-and-contracts\n",
      "https://caleprocure.ca.gov/pages/public-search.aspx\n",
      "https://caleprocure.ca.gov/event/2660/01A6228\n",
      "https://caleprocure.ca.gov/event/2660/02A2151\n",
      "https://caleprocure.ca.gov/event/2660/03A3492\n",
      "https://caleprocure.ca.gov/event/2660/03A3503\n",
      "https://caleprocure.ca.gov/event/2660/04A6476\n",
      "https://caleprocure.ca.gov/event/2660/04A6497\n",
      "https://caleprocure.ca.gov/event/2660/04A6498\n",
      "https://caleprocure.ca.gov/event/2660/04A6510\n",
      "https://caleprocure.ca.gov/event/2660/04A6524\n",
      "https://caleprocure.ca.gov/event/2660/06A2855\n",
      "https://caleprocure.ca.gov/event/2660/09A0882\n",
      "https://caleprocure.ca.gov/event/2660/10A2418\n",
      "https://caleprocure.ca.gov/event/2660/10A2440\n",
      "https://caleprocure.ca.gov/event/2660/10A2445\n",
      "https://caleprocure.ca.gov/event/2660/32A0541\n",
      "/programs/civil-rights/ada-infrastructure-program\n",
      "/programs/maintenance/adopt-a-highway\n",
      "https://www.chp.ca.gov/news-alerts/amber-alert\n",
      "http://beworkzonealert.com/\n",
      "https://www.fire.ca.gov/incidents/\n",
      "http://www.caclimateinvestments.ca.gov/\n",
      "https://covid19.ca.gov/contact-tracing/\n",
      "/programs/transportation-planning/division-of-transportation-planning/state-planning-equity-and-engagement/california-transportation-plan\n",
      "https://cleancalifornia.dot.ca.gov\n",
      "https://www.energyupgradeca.org/\n",
      "https://www.gosafelyca.org/\n",
      "http://keepyourhomecalifornia.org/\n",
      "http://www.beworkzonealert.com/move-over.html\n",
      "https://caloes.ca.gov/\n",
      "https://www.dmv.ca.gov/portal/dmv/detail/realid\n",
      "https://saveourwater.com/\n",
      "https://preview-cleancalifornia.dot.ca.gov/water\n",
      "https://landlordtenant.dre.ca.gov/\n",
      "https://sco.ca.gov/upd_msg.html\n",
      "#skip-to-content\n",
      "/accessibility\n",
      "/privacy-policy\n",
      "/conditions-of-use\n",
      "https://registertovote.ca.gov/\n",
      "http://www.facebook.com/CaltransHQ\n",
      "https://twitter.com/CaltransHQ?ref_src=twsrc%5Etfw\n"
     ]
    }
   ],
   "source": [
    "links = soup.find_all('a', href=True)\n",
    "for link in links:\n",
    "    print(link['href'])"
   ]
  },
  {
   "cell_type": "code",
   "execution_count": 7,
   "id": "711df3b9",
   "metadata": {},
   "outputs": [
    {
     "name": "stdout",
     "output_type": "stream",
     "text": [
      "[['10A2445', 'SB Minor B 10A2445 Concrete Invert Paving and Rock Slope Protection in Mariposa County', '08/12/22 - 2:15PM PDT'], ['32A0541', 'IFB Auctioneering Services to Dispose of Retired Equipment, Northern California', '08/16/22 - 2:00PM PDT']]\n"
     ]
    }
   ],
   "source": [
    "data = []\n",
    "allrows = soup.find_all(\"tr\")\n",
    "for row in allrows:\n",
    "    row_list = row.find_all(\"td\")\n",
    "    dataRow = []\n",
    "    for cell in row_list:\n",
    "        dataRow.append(cell.text)\n",
    "    data.append(dataRow)\n",
    "data = data[1:]\n",
    "print(data[-2:])"
   ]
  },
  {
   "cell_type": "code",
   "execution_count": 8,
   "id": "fd721afb",
   "metadata": {},
   "outputs": [
    {
     "name": "stdout",
     "output_type": "stream",
     "text": [
      "[['01A6228\\n', 'Clearance and Demolition Services Fortuna, CA', '08/16/22 - 2:00PM PDT\\n'], ['02A2151', 'IFB Janitorial and Custodial Grounds Maintenance Services at the Secret Valley Safety Roadside Rest Area (SRRA) in Lassen County.', '08/16/22 - 2:00PM PDT'], ['03A3492\\n', 'SB Minor B 03A3492 - Install Cured-In-Place Pipeliners in Placer County', '08/19/22 - 2:15PM PDT'], ['03A3503', 'SB Minor B 03A3503-Roadway Excavation, place HMA overside drain and HMA dike in Yolo County', '08/17/22 - 2:15PM PDT'], ['04A6476', 'IFB Multiple Provider Unsheltered Resident Encampment Site Waste Removal and Cleanup or Clean Only Services in the East Bay Area', '08/18/22 - 2:00PM PDT'], ['04A6497\\n', 'Operated Equipment Rental Services in Alameda, Contra Costa, Sacramento, Solano, San Mateo, Lake, San Francisco, Santa Clara, Marin, Sonoma, and Napa Counties', '08/16/22 - 2:00PM PDT'], ['04A6498', 'Operated Equipment Rental Services in Alameda, Contra Costa, Sacramento, Solano, San Mateo, San Francisco, Lake, Santa Clara, Marin, Sonoma, and Napa Counties', '08/18/22 - 2:00PM PDT'], ['04A6510', 'IFB Janitorial Services in Santa Clara County, San Mateo County, and San Francisco County', '08/16/22 - 2:00PM PDT'], ['04A6524\\n', 'SB Minor B 04A6524 Install Midwest Guardrail System in Solano county', '08/23/22 - 2:15PM PDT'], ['06A2855', 'IFB Trash and Recycle Pick-up, Hauling, and Disposal Services in Kern County', '08/16/22 - 2:00PM PDT'], ['09A0882', 'IFB Concrete Sidewalk Repairs and Picnic Tables Replacement Services', '08/25/22 - 2:00PM PDT'], ['10A2418', 'Inductive Loop Detector Repair and Replacement in Amador, Alpine, Calaveras, Mariposa, Merced, San Joaquin, Stanislaus, and Tuolumne Counties', '08/16/22 - 2:30PM PDT'], ['10A2440\\n', 'Trash and Recycling Collection, Hauling, and Disposal Services within Calaveras County', '08/18/22 - 2:00PM PDT'], ['10A2445', 'SB Minor B 10A2445 Concrete Invert Paving and Rock Slope Protection in Mariposa County', '08/12/22 - 2:15PM PDT'], ['32A0541', 'IFB Auctioneering Services to Dispose of Retired Equipment, Northern California', '08/16/22 - 2:00PM PDT']]\n"
     ]
    }
   ],
   "source": [
    "df = pd.DataFrame(data)\n",
    "print(data)"
   ]
  },
  {
   "cell_type": "code",
   "execution_count": 9,
   "id": "ba64f410",
   "metadata": {},
   "outputs": [
    {
     "name": "stdout",
     "output_type": "stream",
     "text": [
      "           0                                                  1  \\\n",
      "0  01A6228\\n      Clearance and Demolition Services Fortuna, CA   \n",
      "1    02A2151  IFB Janitorial and Custodial Grounds Maintenan...   \n",
      "2  03A3492\\n  SB Minor B 03A3492 - Install Cured-In-Place Pi...   \n",
      "3    03A3503  SB Minor B 03A3503-Roadway Excavation, place H...   \n",
      "4    04A6476  IFB Multiple Provider Unsheltered Resident Enc...   \n",
      "\n",
      "                         2  \n",
      "0  08/16/22 - 2:00PM PDT\\n  \n",
      "1    08/16/22 - 2:00PM PDT  \n",
      "2    08/19/22 - 2:15PM PDT  \n",
      "3    08/17/22 - 2:15PM PDT  \n",
      "4    08/18/22 - 2:00PM PDT  \n",
      "            0                                                  1  \\\n",
      "10    09A0882  IFB Concrete Sidewalk Repairs and Picnic Table...   \n",
      "11    10A2418  Inductive Loop Detector Repair and Replacement...   \n",
      "12  10A2440\\n  Trash and Recycling Collection, Hauling, and D...   \n",
      "13    10A2445  SB Minor B 10A2445 Concrete Invert Paving and ...   \n",
      "14    32A0541  IFB Auctioneering Services to Dispose of Retir...   \n",
      "\n",
      "                        2  \n",
      "10  08/25/22 - 2:00PM PDT  \n",
      "11  08/16/22 - 2:30PM PDT  \n",
      "12  08/18/22 - 2:00PM PDT  \n",
      "13  08/12/22 - 2:15PM PDT  \n",
      "14  08/16/22 - 2:00PM PDT  \n"
     ]
    }
   ],
   "source": [
    "df = pd.DataFrame(data)\n",
    "print(df.head())\n",
    "print(df.tail())"
   ]
  },
  {
   "cell_type": "code",
   "execution_count": 10,
   "id": "d3615397",
   "metadata": {},
   "outputs": [
    {
     "name": "stdout",
     "output_type": "stream",
     "text": [
      "['Event ID', 'Event Name', 'End Date']\n"
     ]
    }
   ],
   "source": [
    "header_list =[]\n",
    "col_headers = soup.find_all('th')\n",
    "for col in col_headers:\n",
    "    header_list.append(col.text)\n",
    "print(header_list)"
   ]
  },
  {
   "cell_type": "code",
   "execution_count": 11,
   "id": "84ce0c6f",
   "metadata": {},
   "outputs": [
    {
     "name": "stdout",
     "output_type": "stream",
     "text": [
      "    Event ID                                         Event Name  \\\n",
      "0  01A6228\\n      Clearance and Demolition Services Fortuna, CA   \n",
      "1    02A2151  IFB Janitorial and Custodial Grounds Maintenan...   \n",
      "2  03A3492\\n  SB Minor B 03A3492 - Install Cured-In-Place Pi...   \n",
      "3    03A3503  SB Minor B 03A3503-Roadway Excavation, place H...   \n",
      "4    04A6476  IFB Multiple Provider Unsheltered Resident Enc...   \n",
      "\n",
      "                  End Date  \n",
      "0  08/16/22 - 2:00PM PDT\\n  \n",
      "1    08/16/22 - 2:00PM PDT  \n",
      "2    08/19/22 - 2:15PM PDT  \n",
      "3    08/17/22 - 2:15PM PDT  \n",
      "4    08/18/22 - 2:00PM PDT  \n"
     ]
    }
   ],
   "source": [
    "df.columns = header_list\n",
    "print(df.head())"
   ]
  },
  {
   "cell_type": "code",
   "execution_count": 12,
   "id": "ad1c7e11",
   "metadata": {},
   "outputs": [
    {
     "name": "stdout",
     "output_type": "stream",
     "text": [
      "<class 'pandas.core.frame.DataFrame'>\n",
      "RangeIndex: 15 entries, 0 to 14\n",
      "Data columns (total 3 columns):\n",
      " #   Column      Non-Null Count  Dtype \n",
      "---  ------      --------------  ----- \n",
      " 0   Event ID    15 non-null     object\n",
      " 1   Event Name  15 non-null     object\n",
      " 2   End Date    15 non-null     object\n",
      "dtypes: object(3)\n",
      "memory usage: 488.0+ bytes\n"
     ]
    }
   ],
   "source": [
    "df.info()"
   ]
  },
  {
   "cell_type": "code",
   "execution_count": 13,
   "id": "6ce3f6f5",
   "metadata": {},
   "outputs": [
    {
     "data": {
      "text/plain": [
       "(15, 3)"
      ]
     },
     "execution_count": 13,
     "metadata": {},
     "output_type": "execute_result"
    }
   ],
   "source": [
    "df.shape"
   ]
  },
  {
   "cell_type": "code",
   "execution_count": 14,
   "id": "368d5460",
   "metadata": {},
   "outputs": [
    {
     "data": {
      "text/html": [
       "<div>\n",
       "<style scoped>\n",
       "    .dataframe tbody tr th:only-of-type {\n",
       "        vertical-align: middle;\n",
       "    }\n",
       "\n",
       "    .dataframe tbody tr th {\n",
       "        vertical-align: top;\n",
       "    }\n",
       "\n",
       "    .dataframe thead th {\n",
       "        text-align: right;\n",
       "    }\n",
       "</style>\n",
       "<table border=\"1\" class=\"dataframe\">\n",
       "  <thead>\n",
       "    <tr style=\"text-align: right;\">\n",
       "      <th></th>\n",
       "      <th>Event ID</th>\n",
       "      <th>Event Name</th>\n",
       "      <th>End Date</th>\n",
       "    </tr>\n",
       "  </thead>\n",
       "  <tbody>\n",
       "    <tr>\n",
       "      <th>count</th>\n",
       "      <td>15</td>\n",
       "      <td>15</td>\n",
       "      <td>15</td>\n",
       "    </tr>\n",
       "    <tr>\n",
       "      <th>unique</th>\n",
       "      <td>15</td>\n",
       "      <td>15</td>\n",
       "      <td>9</td>\n",
       "    </tr>\n",
       "    <tr>\n",
       "      <th>top</th>\n",
       "      <td>01A6228\\n</td>\n",
       "      <td>Clearance and Demolition Services Fortuna, CA</td>\n",
       "      <td>08/16/22 - 2:00PM PDT</td>\n",
       "    </tr>\n",
       "    <tr>\n",
       "      <th>freq</th>\n",
       "      <td>1</td>\n",
       "      <td>1</td>\n",
       "      <td>5</td>\n",
       "    </tr>\n",
       "  </tbody>\n",
       "</table>\n",
       "</div>"
      ],
      "text/plain": [
       "         Event ID                                     Event Name  \\\n",
       "count          15                                             15   \n",
       "unique         15                                             15   \n",
       "top     01A6228\\n  Clearance and Demolition Services Fortuna, CA   \n",
       "freq            1                                              1   \n",
       "\n",
       "                     End Date  \n",
       "count                      15  \n",
       "unique                      9  \n",
       "top     08/16/22 - 2:00PM PDT  \n",
       "freq                        5  "
      ]
     },
     "execution_count": 14,
     "metadata": {},
     "output_type": "execute_result"
    }
   ],
   "source": [
    "df.describe()"
   ]
  },
  {
   "cell_type": "code",
   "execution_count": 15,
   "id": "3cb10e3b",
   "metadata": {},
   "outputs": [],
   "source": [
    "#Saving output to csv file"
   ]
  },
  {
   "cell_type": "code",
   "execution_count": 16,
   "id": "20cca25b",
   "metadata": {},
   "outputs": [],
   "source": [
    "df.to_csv(r'C:/Users/user/Dropbox/PC/Desktop/Machine Learning/Taiyo/Tender.csv', index = False, header = True)"
   ]
  },
  {
   "cell_type": "code",
   "execution_count": 17,
   "id": "a20a579f",
   "metadata": {},
   "outputs": [],
   "source": [
    "#reading the saved csv file"
   ]
  },
  {
   "cell_type": "code",
   "execution_count": 18,
   "id": "6dff7909",
   "metadata": {},
   "outputs": [],
   "source": [
    "df = pd.read_csv(\"Tender.csv\")"
   ]
  },
  {
   "cell_type": "code",
   "execution_count": 19,
   "id": "bca21f4e",
   "metadata": {},
   "outputs": [
    {
     "data": {
      "text/html": [
       "<div>\n",
       "<style scoped>\n",
       "    .dataframe tbody tr th:only-of-type {\n",
       "        vertical-align: middle;\n",
       "    }\n",
       "\n",
       "    .dataframe tbody tr th {\n",
       "        vertical-align: top;\n",
       "    }\n",
       "\n",
       "    .dataframe thead th {\n",
       "        text-align: right;\n",
       "    }\n",
       "</style>\n",
       "<table border=\"1\" class=\"dataframe\">\n",
       "  <thead>\n",
       "    <tr style=\"text-align: right;\">\n",
       "      <th></th>\n",
       "      <th>Event ID</th>\n",
       "      <th>Event Name</th>\n",
       "      <th>End Date</th>\n",
       "    </tr>\n",
       "  </thead>\n",
       "  <tbody>\n",
       "    <tr>\n",
       "      <th>0</th>\n",
       "      <td>01A6228\\n</td>\n",
       "      <td>Clearance and Demolition Services Fortuna, CA</td>\n",
       "      <td>08/16/22 - 2:00PM PDT\\n</td>\n",
       "    </tr>\n",
       "    <tr>\n",
       "      <th>1</th>\n",
       "      <td>02A2151</td>\n",
       "      <td>IFB Janitorial and Custodial Grounds Maintenan...</td>\n",
       "      <td>08/16/22 - 2:00PM PDT</td>\n",
       "    </tr>\n",
       "    <tr>\n",
       "      <th>2</th>\n",
       "      <td>03A3492\\n</td>\n",
       "      <td>SB Minor B 03A3492 - Install Cured-In-Place Pi...</td>\n",
       "      <td>08/19/22 - 2:15PM PDT</td>\n",
       "    </tr>\n",
       "    <tr>\n",
       "      <th>3</th>\n",
       "      <td>03A3503</td>\n",
       "      <td>SB Minor B 03A3503-Roadway Excavation, place H...</td>\n",
       "      <td>08/17/22 - 2:15PM PDT</td>\n",
       "    </tr>\n",
       "    <tr>\n",
       "      <th>4</th>\n",
       "      <td>04A6476</td>\n",
       "      <td>IFB Multiple Provider Unsheltered Resident Enc...</td>\n",
       "      <td>08/18/22 - 2:00PM PDT</td>\n",
       "    </tr>\n",
       "  </tbody>\n",
       "</table>\n",
       "</div>"
      ],
      "text/plain": [
       "    Event ID                                         Event Name  \\\n",
       "0  01A6228\\n      Clearance and Demolition Services Fortuna, CA   \n",
       "1    02A2151  IFB Janitorial and Custodial Grounds Maintenan...   \n",
       "2  03A3492\\n  SB Minor B 03A3492 - Install Cured-In-Place Pi...   \n",
       "3    03A3503  SB Minor B 03A3503-Roadway Excavation, place H...   \n",
       "4    04A6476  IFB Multiple Provider Unsheltered Resident Enc...   \n",
       "\n",
       "                  End Date  \n",
       "0  08/16/22 - 2:00PM PDT\\n  \n",
       "1    08/16/22 - 2:00PM PDT  \n",
       "2    08/19/22 - 2:15PM PDT  \n",
       "3    08/17/22 - 2:15PM PDT  \n",
       "4    08/18/22 - 2:00PM PDT  "
      ]
     },
     "execution_count": 19,
     "metadata": {},
     "output_type": "execute_result"
    }
   ],
   "source": [
    "df.head()"
   ]
  },
  {
   "cell_type": "code",
   "execution_count": 20,
   "id": "9d02ff61",
   "metadata": {},
   "outputs": [],
   "source": [
    "#renaming of column name for data analysis"
   ]
  },
  {
   "cell_type": "code",
   "execution_count": 21,
   "id": "af4d536e",
   "metadata": {},
   "outputs": [],
   "source": [
    "df.rename(columns = {'Event ID':'Event_ID', 'Event Name':'Event_Name', 'End Date':'End_Date'}, inplace = True)"
   ]
  },
  {
   "cell_type": "code",
   "execution_count": 22,
   "id": "cad9359b",
   "metadata": {},
   "outputs": [
    {
     "name": "stderr",
     "output_type": "stream",
     "text": [
      "C:\\Users\\user\\anaconda3\\lib\\site-packages\\dateutil\\parser\\_parser.py:1207: UnknownTimezoneWarning: tzname PDT identified but not understood.  Pass `tzinfos` argument in order to correctly return a timezone-aware datetime.  In a future version, this will raise an exception.\n",
      "  warnings.warn(\"tzname {tzname} identified but not understood.  \"\n",
      "C:\\Users\\user\\anaconda3\\lib\\site-packages\\dateutil\\parser\\_parser.py:1207: UnknownTimezoneWarning: tzname PDT identified but not understood.  Pass `tzinfos` argument in order to correctly return a timezone-aware datetime.  In a future version, this will raise an exception.\n",
      "  warnings.warn(\"tzname {tzname} identified but not understood.  \"\n"
     ]
    },
    {
     "data": {
      "image/png": "[encoded data removed]",
      "text/plain": [
       "<Figure size 432x288 with 1 Axes>"
      ]
     },
     "metadata": {
      "needs_background": "light"
     },
     "output_type": "display_data"
    }
   ],
   "source": [
    "plt.title('DATE OF EVENTS', fontsize=20)\n",
    "hist = sns.histplot(df.End_Date)"
   ]
  },
  {
   "cell_type": "code",
   "execution_count": 23,
   "id": "78f2f84e",
   "metadata": {},
   "outputs": [
    {
     "name": "stderr",
     "output_type": "stream",
     "text": [
      "C:\\Users\\user\\anaconda3\\lib\\site-packages\\dateutil\\parser\\_parser.py:1207: UnknownTimezoneWarning: tzname PDT identified but not understood.  Pass `tzinfos` argument in order to correctly return a timezone-aware datetime.  In a future version, this will raise an exception.\n",
      "  warnings.warn(\"tzname {tzname} identified but not understood.  \"\n",
      "C:\\Users\\user\\anaconda3\\lib\\site-packages\\dateutil\\parser\\_parser.py:1207: UnknownTimezoneWarning: tzname PDT identified but not understood.  Pass `tzinfos` argument in order to correctly return a timezone-aware datetime.  In a future version, this will raise an exception.\n",
      "  warnings.warn(\"tzname {tzname} identified but not understood.  \"\n",
      "C:\\Users\\user\\anaconda3\\lib\\site-packages\\dateutil\\parser\\_parser.py:1207: UnknownTimezoneWarning: tzname PDT identified but not understood.  Pass `tzinfos` argument in order to correctly return a timezone-aware datetime.  In a future version, this will raise an exception.\n",
      "  warnings.warn(\"tzname {tzname} identified but not understood.  \"\n",
      "C:\\Users\\user\\anaconda3\\lib\\site-packages\\dateutil\\parser\\_parser.py:1207: UnknownTimezoneWarning: tzname PDT identified but not understood.  Pass `tzinfos` argument in order to correctly return a timezone-aware datetime.  In a future version, this will raise an exception.\n",
      "  warnings.warn(\"tzname {tzname} identified but not understood.  \"\n"
     ]
    },
    {
     "data": {
      "image/png": "[encoded data removed]",
      "text/plain": [
       "<Figure size 432x432 with 3 Axes>"
      ]
     },
     "metadata": {
      "needs_background": "light"
     },
     "output_type": "display_data"
    }
   ],
   "source": [
    "d1 = sns.jointplot(data=df, x='Event_ID', y='End_Date')"
   ]
  },
  {
   "cell_type": "code",
   "execution_count": null,
   "id": "61b1156e",
   "metadata": {},
   "outputs": [],
   "source": []
  }
 ],
 "metadata": {
  "kernelspec": {
   "display_name": "Python 3 (ipykernel)",
   "language": "python",
   "name": "python3"
  },
  "language_info": {
   "codemirror_mode": {
    "name": "ipython",
    "version": 3
   },
   "file_extension": ".py",
   "mimetype": "text/x-python",
   "name": "python",
   "nbconvert_exporter": "python",
   "pygments_lexer": "ipython3",
   "version": "3.9.12"
  }
 },
 "nbformat": 4,
 "nbformat_minor": 5
}
