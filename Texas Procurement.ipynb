{
 "cells": [
  {
   "cell_type": "code",
   "execution_count": 1,
   "id": "1265c041",
   "metadata": {},
   "outputs": [],
   "source": [
    "import pandas as pd\n",
    "import numpy as np\n",
    "import matplotlib.pyplot as plt\n",
    "%matplotlib inline\n",
    "from urllib.request import urlopen\n",
    "from bs4 import BeautifulSoup\n",
    "import re\n",
    "import seaborn as sns"
   ]
  },
  {
   "cell_type": "code",
   "execution_count": 2,
   "id": "ca3c7ddd",
   "metadata": {},
   "outputs": [],
   "source": [
    "#Importing Url\n",
    "url = \"https://apps3.txdot.gov/apps-cq/project_tracker/\"    #open link\n",
    "html = urlopen(url)"
   ]
  },
  {
   "cell_type": "code",
   "execution_count": 3,
   "id": "f7728fd1",
   "metadata": {},
   "outputs": [],
   "source": [
    "soup = BeautifulSoup(html)"
   ]
  },
  {
   "cell_type": "code",
   "execution_count": 4,
   "id": "16eb4894",
   "metadata": {},
   "outputs": [
    {
     "name": "stdout",
     "output_type": "stream",
     "text": [
      "<title>Project Tracker</title>\n",
      "Project Tracker\n"
     ]
    }
   ],
   "source": [
    "title = soup.title\n",
    "print(title)\n",
    "print(title.text)"
   ]
  },
  {
   "cell_type": "code",
   "execution_count": 5,
   "id": "efdf4a40",
   "metadata": {},
   "outputs": [
    {
     "name": "stdout",
     "output_type": "stream",
     "text": [
      "http://www.txdot.gov/\n",
      "http://www.TxDOT.gov\n",
      "http://gis-txdot.opendata.arcgis.com/\n",
      "http://www.txdot.gov/apps/statewide_mapping/StatewidePlanningMap.html\n",
      "http://www.txdot.gov/inside-txdot/projects/project-tracker.html\n",
      "#\n",
      "https://txdot.maps.arcgis.com/apps/Cascade/index.html?appid=a9c6a2a7ff7944c19ce532968db96dd8\n",
      "https://youtu.be/W_RmvKovYpQ\n",
      "mailto:Project.Tracker@txdot.gov\n",
      "#\n",
      "#\n",
      "#\n",
      "ftp://ftp.dot.state.tx.us/pub/txdot-info/tpp/project-tracker/ProjectTracker.xml\n",
      "#\n",
      "#\n",
      "#\n",
      "https://drivetexas.org\n",
      "http://www.dot.state.tx.us/texasclearlanes/\n",
      "#\n",
      "#\n",
      "#\n",
      "http://ftp.dot.state.tx.us/pub/txdot-info/spd/cda/sh99-hi/project-sheet.pdf\n"
     ]
    }
   ],
   "source": [
    "links = soup.find_all('a', href=True)\n",
    "for link in links:\n",
    "    print(link['href'])"
   ]
  },
  {
   "cell_type": "code",
   "execution_count": 6,
   "id": "ccd23c41",
   "metadata": {},
   "outputs": [
    {
     "name": "stdout",
     "output_type": "stream",
     "text": [
      "[['\\n Current UTP\\n'], ['\\n\\n\\n \\n\\n\\n\\n\\n\\nDescription\\nUS 281\\nSH 99 Seg. H&1\\n\\n\\n \\n \\n \\n\\n\\n']]\n"
     ]
    }
   ],
   "source": [
    "data = []\n",
    "allrows = soup.find_all(\"tr\")\n",
    "for row in allrows:\n",
    "    row_list = row.find_all(\"td\")\n",
    "    dataRow = []\n",
    "    for cell in row_list:\n",
    "        dataRow.append(cell.text)\n",
    "    data.append(dataRow)\n",
    "data = data[1:]\n",
    "print(data[-2:])"
   ]
  },
  {
   "cell_type": "code",
   "execution_count": 7,
   "id": "9874d6d5",
   "metadata": {},
   "outputs": [
    {
     "name": "stdout",
     "output_type": "stream",
     "text": [
      "[['\\n  Construction underway or begins soon\\n'], ['\\n  Construction begins within 4 years\\n'], ['\\n  Construction begins in 5 to 10 years\\n'], ['\\n  Corridor Studies, construction 10+ years\\n'], ['\\n Alternative Transportation\\n'], ['\\n Bridge\\n'], ['\\n Maintenance\\n'], ['\\n Miscellaneous\\n'], ['\\n Mobility\\n'], ['\\n Safety\\n'], ['\\n Top 100 Most Congested\\n'], ['\\n Freight\\n'], ['\\n Trunk\\n'], ['\\n Energy Sector\\n'], ['\\n Current UTP\\n'], ['\\n\\n\\n \\n\\n\\n\\n\\n\\nDescription\\nUS 281\\nSH 99 Seg. H&1\\n\\n\\n \\n \\n \\n\\n\\n']]\n"
     ]
    }
   ],
   "source": [
    "df = pd.DataFrame(data)\n",
    "print(data)"
   ]
  },
  {
   "cell_type": "code",
   "execution_count": 8,
   "id": "5f804a5d",
   "metadata": {},
   "outputs": [
    {
     "name": "stdout",
     "output_type": "stream",
     "text": [
      "                                                0\n",
      "0      \\n  Construction underway or begins soon\\n\n",
      "1        \\n  Construction begins within 4 years\\n\n",
      "2      \\n  Construction begins in 5 to 10 years\\n\n",
      "3  \\n  Corridor Studies, construction 10+ years\\n\n",
      "4                 \\n Alternative Transportation\\n\n",
      "                                                    0\n",
      "11                                       \\n Freight\\n\n",
      "12                                         \\n Trunk\\n\n",
      "13                                 \\n Energy Sector\\n\n",
      "14                                   \\n Current UTP\\n\n",
      "15  \\n\\n\\n \\n\\n\\n\\n\\n\\nDescription\\nUS 281\\nSH 99 ...\n"
     ]
    }
   ],
   "source": [
    "df = pd.DataFrame(data)\n",
    "print(df.head())\n",
    "print(df.tail())"
   ]
  },
  {
   "cell_type": "code",
   "execution_count": 9,
   "id": "e9fa2c45",
   "metadata": {},
   "outputs": [
    {
     "name": "stdout",
     "output_type": "stream",
     "text": [
      "[]\n"
     ]
    }
   ],
   "source": [
    "header_list =[]\n",
    "col_headers = soup.find_all('th')\n",
    "for col in col_headers:\n",
    "    header_list.append(col.text)\n",
    "print(header_list)"
   ]
  },
  {
   "cell_type": "code",
   "execution_count": 10,
   "id": "8a792b0b",
   "metadata": {},
   "outputs": [
    {
     "name": "stdout",
     "output_type": "stream",
     "text": [
      "<class 'pandas.core.frame.DataFrame'>\n",
      "RangeIndex: 16 entries, 0 to 15\n",
      "Data columns (total 1 columns):\n",
      " #   Column  Non-Null Count  Dtype \n",
      "---  ------  --------------  ----- \n",
      " 0   0       16 non-null     object\n",
      "dtypes: object(1)\n",
      "memory usage: 256.0+ bytes\n"
     ]
    }
   ],
   "source": [
    "df.info()"
   ]
  },
  {
   "cell_type": "code",
   "execution_count": 11,
   "id": "37cc7731",
   "metadata": {},
   "outputs": [
    {
     "data": {
      "text/plain": [
       "(16, 1)"
      ]
     },
     "execution_count": 11,
     "metadata": {},
     "output_type": "execute_result"
    }
   ],
   "source": [
    "df.shape"
   ]
  },
  {
   "cell_type": "code",
   "execution_count": 12,
   "id": "d5a59821",
   "metadata": {},
   "outputs": [
    {
     "data": {
      "text/plain": [
       "<bound method NDFrame.describe of                                                     0\n",
       "0          \\n  Construction underway or begins soon\\n\n",
       "1            \\n  Construction begins within 4 years\\n\n",
       "2          \\n  Construction begins in 5 to 10 years\\n\n",
       "3      \\n  Corridor Studies, construction 10+ years\\n\n",
       "4                     \\n Alternative Transportation\\n\n",
       "5                                         \\n Bridge\\n\n",
       "6                                    \\n Maintenance\\n\n",
       "7                                  \\n Miscellaneous\\n\n",
       "8                                       \\n Mobility\\n\n",
       "9                                         \\n Safety\\n\n",
       "10                        \\n Top 100 Most Congested\\n\n",
       "11                                       \\n Freight\\n\n",
       "12                                         \\n Trunk\\n\n",
       "13                                 \\n Energy Sector\\n\n",
       "14                                   \\n Current UTP\\n\n",
       "15  \\n\\n\\n \\n\\n\\n\\n\\n\\nDescription\\nUS 281\\nSH 99 ...>"
      ]
     },
     "execution_count": 12,
     "metadata": {},
     "output_type": "execute_result"
    }
   ],
   "source": [
    "df.describe"
   ]
  },
  {
   "cell_type": "code",
   "execution_count": 13,
   "id": "0dc41617",
   "metadata": {},
   "outputs": [],
   "source": [
    "df.to_csv(r'C:/Users/user/Dropbox/PC/Desktop/Machine Learning/Taiyo/web scrapping/Texas.csv', index = False, header = True)"
   ]
  },
  {
   "cell_type": "code",
   "execution_count": 16,
   "id": "1ed07df7",
   "metadata": {},
   "outputs": [],
   "source": [
    "df = pd.read_csv(\"Texas.csv\")"
   ]
  },
  {
   "cell_type": "code",
   "execution_count": 17,
   "id": "4c799417",
   "metadata": {},
   "outputs": [
    {
     "data": {
      "text/html": [
       "<div>\n",
       "<style scoped>\n",
       "    .dataframe tbody tr th:only-of-type {\n",
       "        vertical-align: middle;\n",
       "    }\n",
       "\n",
       "    .dataframe tbody tr th {\n",
       "        vertical-align: top;\n",
       "    }\n",
       "\n",
       "    .dataframe thead th {\n",
       "        text-align: right;\n",
       "    }\n",
       "</style>\n",
       "<table border=\"1\" class=\"dataframe\">\n",
       "  <thead>\n",
       "    <tr style=\"text-align: right;\">\n",
       "      <th></th>\n",
       "      <th>0</th>\n",
       "    </tr>\n",
       "  </thead>\n",
       "  <tbody>\n",
       "    <tr>\n",
       "      <th>0</th>\n",
       "      <td>\\n  Construction underway or begins soon\\n</td>\n",
       "    </tr>\n",
       "    <tr>\n",
       "      <th>1</th>\n",
       "      <td>\\n  Construction begins within 4 years\\n</td>\n",
       "    </tr>\n",
       "    <tr>\n",
       "      <th>2</th>\n",
       "      <td>\\n  Construction begins in 5 to 10 years\\n</td>\n",
       "    </tr>\n",
       "    <tr>\n",
       "      <th>3</th>\n",
       "      <td>\\n  Corridor Studies, construction 10+ years\\n</td>\n",
       "    </tr>\n",
       "    <tr>\n",
       "      <th>4</th>\n",
       "      <td>\\n Alternative Transportation\\n</td>\n",
       "    </tr>\n",
       "  </tbody>\n",
       "</table>\n",
       "</div>"
      ],
      "text/plain": [
       "                                                0\n",
       "0      \\n  Construction underway or begins soon\\n\n",
       "1        \\n  Construction begins within 4 years\\n\n",
       "2      \\n  Construction begins in 5 to 10 years\\n\n",
       "3  \\n  Corridor Studies, construction 10+ years\\n\n",
       "4                 \\n Alternative Transportation\\n"
      ]
     },
     "execution_count": 17,
     "metadata": {},
     "output_type": "execute_result"
    }
   ],
   "source": [
    "df.head()"
   ]
  },
  {
   "cell_type": "code",
   "execution_count": null,
   "id": "6fa5db74",
   "metadata": {},
   "outputs": [],
   "source": []
  },
  {
   "cell_type": "code",
   "execution_count": null,
   "id": "8a464ecd",
   "metadata": {},
   "outputs": [],
   "source": []
  }
 ],
 "metadata": {
  "kernelspec": {
   "display_name": "Python 3 (ipykernel)",
   "language": "python",
   "name": "python3"
  },
  "language_info": {
   "codemirror_mode": {
    "name": "ipython",
    "version": 3
   },
   "file_extension": ".py",
   "mimetype": "text/x-python",
   "name": "python",
   "nbconvert_exporter": "python",
   "pygments_lexer": "ipython3",
   "version": "3.9.12"
  }
 },
 "nbformat": 4,
 "nbformat_minor": 5
}
